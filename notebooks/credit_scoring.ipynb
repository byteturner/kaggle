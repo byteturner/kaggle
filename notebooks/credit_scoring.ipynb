{
 "cells": [
  {
   "cell_type": "code",
   "execution_count": 1,
   "metadata": {
    "pycharm": {
     "is_executing": true
    }
   },
   "outputs": [],
   "source": [
    "import pandas as pd"
   ]
  },
  {
   "cell_type": "code",
   "execution_count": 2,
   "metadata": {
    "pycharm": {
     "is_executing": true
    }
   },
   "outputs": [],
   "source": [
    "data_train = pd.read_csv('../data/csv/credit_train.csv')\n",
    "data_test = pd.read_csv('../data/csv/credit_test.csv')"
   ]
  },
  {
   "cell_type": "code",
   "execution_count": 3,
   "metadata": {
    "pycharm": {
     "is_executing": true
    }
   },
   "outputs": [],
   "source": [
    "from sklearn.preprocessing import OneHotEncoder\n",
    "\n",
    "def preproc(data_init):\n",
    "    preproc_data = data_init.copy()\n",
    "    \n",
    "    preproc_data = preproc_data.drop(['Months since last delinquent', 'Customer ID', 'Purpose'], axis=1)\n",
    "    \n",
    "    preproc_data = preproc_data.dropna()\n",
    "    \n",
    "    #cтатус займа в бинарные значения\n",
    "    preproc_data.loc[:, 'Loan Status'] = \\\n",
    "    preproc_data.loc[:, 'Loan Status'].replace({'Fully Paid': 1, 'Charged Off': 0})\n",
    "    \n",
    "    #срок в бинарные значения\n",
    "    preproc_data.loc[:, 'Term'] = \\\n",
    "    preproc_data.loc[:, 'Term'].replace({'Long Term': 1, 'Short Term': 0})\n",
    "    \n",
    "    #стаж на текущем месте работы в числовые значения\n",
    "    preproc_data.loc[:, 'Years in current job'] = \\\n",
    "    preproc_data.loc[:, 'Years in current job'].replace({\n",
    "        '10+ years': 10,\n",
    "        '2 years': 2,\n",
    "        '3 years': 3,\n",
    "        '< 1 year': 0,\n",
    "        '5 years': 5,\n",
    "        '1 year': 1,\n",
    "        '4 years': 4,\n",
    "        '6 years': 6,\n",
    "        '7 years': 7,\n",
    "        '8 years': 8,\n",
    "        '9 years': 9,\n",
    "    })\n",
    "    \n",
    "    preproc_data = pd.get_dummies(preproc_data, columns = [\"Home Ownership\"] , prefix_sep = \"_\", drop_first = True)\n",
    "    \n",
    "    preproc_data.set_index('Loan ID', inplace=True)\n",
    "    \n",
    "    return preproc_data"
   ]
  },
  {
   "cell_type": "code",
   "execution_count": 4,
   "metadata": {
    "pycharm": {
     "is_executing": true
    }
   },
   "outputs": [],
   "source": [
    "data_train_preproc = data_train.pipe(preproc)"
   ]
  },
  {
   "cell_type": "code",
   "execution_count": 5,
   "metadata": {},
   "outputs": [
    {
     "data": {
      "text/html": [
       "<div>\n",
       "<style scoped>\n",
       "    .dataframe tbody tr th:only-of-type {\n",
       "        vertical-align: middle;\n",
       "    }\n",
       "\n",
       "    .dataframe tbody tr th {\n",
       "        vertical-align: top;\n",
       "    }\n",
       "\n",
       "    .dataframe thead th {\n",
       "        text-align: right;\n",
       "    }\n",
       "</style>\n",
       "<table border=\"1\" class=\"dataframe\">\n",
       "  <thead>\n",
       "    <tr style=\"text-align: right;\">\n",
       "      <th></th>\n",
       "      <th>Loan Status</th>\n",
       "      <th>Current Loan Amount</th>\n",
       "      <th>Term</th>\n",
       "      <th>Credit Score</th>\n",
       "      <th>Annual Income</th>\n",
       "      <th>Years in current job</th>\n",
       "      <th>Monthly Debt</th>\n",
       "      <th>Years of Credit History</th>\n",
       "      <th>Number of Open Accounts</th>\n",
       "      <th>Number of Credit Problems</th>\n",
       "      <th>Current Credit Balance</th>\n",
       "      <th>Maximum Open Credit</th>\n",
       "      <th>Bankruptcies</th>\n",
       "      <th>Tax Liens</th>\n",
       "      <th>Home Ownership_Home Mortgage</th>\n",
       "      <th>Home Ownership_Own Home</th>\n",
       "      <th>Home Ownership_Rent</th>\n",
       "    </tr>\n",
       "    <tr>\n",
       "      <th>Loan ID</th>\n",
       "      <th></th>\n",
       "      <th></th>\n",
       "      <th></th>\n",
       "      <th></th>\n",
       "      <th></th>\n",
       "      <th></th>\n",
       "      <th></th>\n",
       "      <th></th>\n",
       "      <th></th>\n",
       "      <th></th>\n",
       "      <th></th>\n",
       "      <th></th>\n",
       "      <th></th>\n",
       "      <th></th>\n",
       "      <th></th>\n",
       "      <th></th>\n",
       "      <th></th>\n",
       "    </tr>\n",
       "  </thead>\n",
       "  <tbody>\n",
       "    <tr>\n",
       "      <th>14dd8831-6af5-400b-83ec-68e61888a048</th>\n",
       "      <td>1</td>\n",
       "      <td>445412</td>\n",
       "      <td>0</td>\n",
       "      <td>709.0</td>\n",
       "      <td>1167493.0</td>\n",
       "      <td>8</td>\n",
       "      <td>5214.74</td>\n",
       "      <td>17.2</td>\n",
       "      <td>6</td>\n",
       "      <td>1</td>\n",
       "      <td>228190</td>\n",
       "      <td>416746.0</td>\n",
       "      <td>1.0</td>\n",
       "      <td>0.0</td>\n",
       "      <td>1</td>\n",
       "      <td>0</td>\n",
       "      <td>0</td>\n",
       "    </tr>\n",
       "    <tr>\n",
       "      <th>4eed4e6a-aa2f-4c91-8651-ce984ee8fb26</th>\n",
       "      <td>1</td>\n",
       "      <td>99999999</td>\n",
       "      <td>0</td>\n",
       "      <td>741.0</td>\n",
       "      <td>2231892.0</td>\n",
       "      <td>8</td>\n",
       "      <td>29200.53</td>\n",
       "      <td>14.9</td>\n",
       "      <td>18</td>\n",
       "      <td>1</td>\n",
       "      <td>297996</td>\n",
       "      <td>750090.0</td>\n",
       "      <td>0.0</td>\n",
       "      <td>0.0</td>\n",
       "      <td>0</td>\n",
       "      <td>1</td>\n",
       "      <td>0</td>\n",
       "    </tr>\n",
       "    <tr>\n",
       "      <th>77598f7b-32e7-4e3b-a6e5-06ba0d98fe8a</th>\n",
       "      <td>1</td>\n",
       "      <td>347666</td>\n",
       "      <td>1</td>\n",
       "      <td>721.0</td>\n",
       "      <td>806949.0</td>\n",
       "      <td>3</td>\n",
       "      <td>8741.90</td>\n",
       "      <td>12.0</td>\n",
       "      <td>9</td>\n",
       "      <td>0</td>\n",
       "      <td>256329</td>\n",
       "      <td>386958.0</td>\n",
       "      <td>0.0</td>\n",
       "      <td>0.0</td>\n",
       "      <td>0</td>\n",
       "      <td>1</td>\n",
       "      <td>0</td>\n",
       "    </tr>\n",
       "    <tr>\n",
       "      <th>89d8cb0c-e5c2-4f54-b056-48a645c543dd</th>\n",
       "      <td>0</td>\n",
       "      <td>206602</td>\n",
       "      <td>0</td>\n",
       "      <td>7290.0</td>\n",
       "      <td>896857.0</td>\n",
       "      <td>10</td>\n",
       "      <td>16367.74</td>\n",
       "      <td>17.3</td>\n",
       "      <td>6</td>\n",
       "      <td>0</td>\n",
       "      <td>215308</td>\n",
       "      <td>272448.0</td>\n",
       "      <td>0.0</td>\n",
       "      <td>0.0</td>\n",
       "      <td>1</td>\n",
       "      <td>0</td>\n",
       "      <td>0</td>\n",
       "    </tr>\n",
       "    <tr>\n",
       "      <th>273581de-85d8-4332-81a5-19b04ce68666</th>\n",
       "      <td>1</td>\n",
       "      <td>217646</td>\n",
       "      <td>0</td>\n",
       "      <td>730.0</td>\n",
       "      <td>1184194.0</td>\n",
       "      <td>0</td>\n",
       "      <td>10855.08</td>\n",
       "      <td>19.6</td>\n",
       "      <td>13</td>\n",
       "      <td>1</td>\n",
       "      <td>122170</td>\n",
       "      <td>272052.0</td>\n",
       "      <td>1.0</td>\n",
       "      <td>0.0</td>\n",
       "      <td>1</td>\n",
       "      <td>0</td>\n",
       "      <td>0</td>\n",
       "    </tr>\n",
       "  </tbody>\n",
       "</table>\n",
       "</div>"
      ],
      "text/plain": [
       "                                      Loan Status  Current Loan Amount  Term  \\\n",
       "Loan ID                                                                        \n",
       "14dd8831-6af5-400b-83ec-68e61888a048            1               445412     0   \n",
       "4eed4e6a-aa2f-4c91-8651-ce984ee8fb26            1             99999999     0   \n",
       "77598f7b-32e7-4e3b-a6e5-06ba0d98fe8a            1               347666     1   \n",
       "89d8cb0c-e5c2-4f54-b056-48a645c543dd            0               206602     0   \n",
       "273581de-85d8-4332-81a5-19b04ce68666            1               217646     0   \n",
       "\n",
       "                                      Credit Score  Annual Income  \\\n",
       "Loan ID                                                             \n",
       "14dd8831-6af5-400b-83ec-68e61888a048         709.0      1167493.0   \n",
       "4eed4e6a-aa2f-4c91-8651-ce984ee8fb26         741.0      2231892.0   \n",
       "77598f7b-32e7-4e3b-a6e5-06ba0d98fe8a         721.0       806949.0   \n",
       "89d8cb0c-e5c2-4f54-b056-48a645c543dd        7290.0       896857.0   \n",
       "273581de-85d8-4332-81a5-19b04ce68666         730.0      1184194.0   \n",
       "\n",
       "                                      Years in current job  Monthly Debt  \\\n",
       "Loan ID                                                                    \n",
       "14dd8831-6af5-400b-83ec-68e61888a048                     8       5214.74   \n",
       "4eed4e6a-aa2f-4c91-8651-ce984ee8fb26                     8      29200.53   \n",
       "77598f7b-32e7-4e3b-a6e5-06ba0d98fe8a                     3       8741.90   \n",
       "89d8cb0c-e5c2-4f54-b056-48a645c543dd                    10      16367.74   \n",
       "273581de-85d8-4332-81a5-19b04ce68666                     0      10855.08   \n",
       "\n",
       "                                      Years of Credit History  \\\n",
       "Loan ID                                                         \n",
       "14dd8831-6af5-400b-83ec-68e61888a048                     17.2   \n",
       "4eed4e6a-aa2f-4c91-8651-ce984ee8fb26                     14.9   \n",
       "77598f7b-32e7-4e3b-a6e5-06ba0d98fe8a                     12.0   \n",
       "89d8cb0c-e5c2-4f54-b056-48a645c543dd                     17.3   \n",
       "273581de-85d8-4332-81a5-19b04ce68666                     19.6   \n",
       "\n",
       "                                      Number of Open Accounts  \\\n",
       "Loan ID                                                         \n",
       "14dd8831-6af5-400b-83ec-68e61888a048                        6   \n",
       "4eed4e6a-aa2f-4c91-8651-ce984ee8fb26                       18   \n",
       "77598f7b-32e7-4e3b-a6e5-06ba0d98fe8a                        9   \n",
       "89d8cb0c-e5c2-4f54-b056-48a645c543dd                        6   \n",
       "273581de-85d8-4332-81a5-19b04ce68666                       13   \n",
       "\n",
       "                                      Number of Credit Problems  \\\n",
       "Loan ID                                                           \n",
       "14dd8831-6af5-400b-83ec-68e61888a048                          1   \n",
       "4eed4e6a-aa2f-4c91-8651-ce984ee8fb26                          1   \n",
       "77598f7b-32e7-4e3b-a6e5-06ba0d98fe8a                          0   \n",
       "89d8cb0c-e5c2-4f54-b056-48a645c543dd                          0   \n",
       "273581de-85d8-4332-81a5-19b04ce68666                          1   \n",
       "\n",
       "                                      Current Credit Balance  \\\n",
       "Loan ID                                                        \n",
       "14dd8831-6af5-400b-83ec-68e61888a048                  228190   \n",
       "4eed4e6a-aa2f-4c91-8651-ce984ee8fb26                  297996   \n",
       "77598f7b-32e7-4e3b-a6e5-06ba0d98fe8a                  256329   \n",
       "89d8cb0c-e5c2-4f54-b056-48a645c543dd                  215308   \n",
       "273581de-85d8-4332-81a5-19b04ce68666                  122170   \n",
       "\n",
       "                                      Maximum Open Credit  Bankruptcies  \\\n",
       "Loan ID                                                                   \n",
       "14dd8831-6af5-400b-83ec-68e61888a048             416746.0           1.0   \n",
       "4eed4e6a-aa2f-4c91-8651-ce984ee8fb26             750090.0           0.0   \n",
       "77598f7b-32e7-4e3b-a6e5-06ba0d98fe8a             386958.0           0.0   \n",
       "89d8cb0c-e5c2-4f54-b056-48a645c543dd             272448.0           0.0   \n",
       "273581de-85d8-4332-81a5-19b04ce68666             272052.0           1.0   \n",
       "\n",
       "                                      Tax Liens  Home Ownership_Home Mortgage  \\\n",
       "Loan ID                                                                         \n",
       "14dd8831-6af5-400b-83ec-68e61888a048        0.0                             1   \n",
       "4eed4e6a-aa2f-4c91-8651-ce984ee8fb26        0.0                             0   \n",
       "77598f7b-32e7-4e3b-a6e5-06ba0d98fe8a        0.0                             0   \n",
       "89d8cb0c-e5c2-4f54-b056-48a645c543dd        0.0                             1   \n",
       "273581de-85d8-4332-81a5-19b04ce68666        0.0                             1   \n",
       "\n",
       "                                      Home Ownership_Own Home  \\\n",
       "Loan ID                                                         \n",
       "14dd8831-6af5-400b-83ec-68e61888a048                        0   \n",
       "4eed4e6a-aa2f-4c91-8651-ce984ee8fb26                        1   \n",
       "77598f7b-32e7-4e3b-a6e5-06ba0d98fe8a                        1   \n",
       "89d8cb0c-e5c2-4f54-b056-48a645c543dd                        0   \n",
       "273581de-85d8-4332-81a5-19b04ce68666                        0   \n",
       "\n",
       "                                      Home Ownership_Rent  \n",
       "Loan ID                                                    \n",
       "14dd8831-6af5-400b-83ec-68e61888a048                    0  \n",
       "4eed4e6a-aa2f-4c91-8651-ce984ee8fb26                    0  \n",
       "77598f7b-32e7-4e3b-a6e5-06ba0d98fe8a                    0  \n",
       "89d8cb0c-e5c2-4f54-b056-48a645c543dd                    0  \n",
       "273581de-85d8-4332-81a5-19b04ce68666                    0  "
      ]
     },
     "execution_count": 5,
     "metadata": {},
     "output_type": "execute_result"
    }
   ],
   "source": [
    "data_train_preproc.head()"
   ]
  },
  {
   "cell_type": "code",
   "execution_count": 6,
   "metadata": {},
   "outputs": [],
   "source": [
    "X, y = data_train_preproc.iloc[:, :-1].values, data_train_preproc.iloc[:, -1].values"
   ]
  },
  {
   "cell_type": "code",
   "execution_count": 7,
   "metadata": {
    "pycharm": {
     "is_executing": true
    }
   },
   "outputs": [],
   "source": [
    "from scipy.stats import randint as randint\n",
    "from scipy.stats import uniform\n",
    "from sklearn.tree import DecisionTreeClassifier\n",
    "\n",
    "try:\n",
    "    from sklearn.model_selection import GridSearchCV\n",
    "    from sklearn.model_selection import RandomizedSearchCV\n",
    "    from sklearn.model_selection import StratifiedKFold\n",
    "except ImportError:\n",
    "    from sklearn.cross_validation import GridSearchCV\n",
    "    from sklearn.cross_validation import RandomizedSearchCV\n",
    "    from sklearn.cross_validation import StratifiedKFold\n",
    "\n",
    "\n",
    "RND_SEED = 123"
   ]
  },
  {
   "cell_type": "code",
   "execution_count": 8,
   "metadata": {},
   "outputs": [
    {
     "data": {
      "text/plain": [
       "RandomizedSearchCV(cv=StratifiedKFold(n_splits=5, random_state=123, shuffle=True),\n",
       "                   estimator=DecisionTreeClassifier(random_state=123),\n",
       "                   n_iter=200, n_jobs=-1,\n",
       "                   param_distributions={'class_weight': [None, 'balanced'],\n",
       "                                        'criterion': ['gini', 'entropy'],\n",
       "                                        'max_depth': <scipy.stats._distn_infrastructure.rv_frozen object at 0x0000025D5926F880>,\n",
       "                                        'min_samples_leaf': <scipy.stats._distn_infrastructure.rv_frozen object at 0x0000025D5926FA60>},\n",
       "                   random_state=123, scoring='roc_auc')"
      ]
     },
     "execution_count": 8,
     "metadata": {},
     "output_type": "execute_result"
    }
   ],
   "source": [
    "# Определим пространство поиска\n",
    "\n",
    "param_grid = {\n",
    "    'criterion': ['gini', 'entropy'],\n",
    "    'max_depth': randint(2, 15),\n",
    "    'min_samples_leaf': randint(5, 10),\n",
    "    'class_weight': [None, 'balanced']}\n",
    "\n",
    "cv = StratifiedKFold(n_splits=5, random_state=123, shuffle=True)\n",
    "\n",
    "model = DecisionTreeClassifier(random_state=123)\n",
    "random_search = RandomizedSearchCV(model, param_distributions=param_grid, n_iter=200, n_jobs=-1,\n",
    "                                   cv=cv, scoring='roc_auc', random_state=123)\n",
    "\n",
    "random_search.fit(X, y)"
   ]
  },
  {
   "cell_type": "code",
   "execution_count": 9,
   "metadata": {},
   "outputs": [
    {
     "data": {
      "text/plain": [
       "{'class_weight': None,\n",
       " 'criterion': 'entropy',\n",
       " 'max_depth': 6,\n",
       " 'min_samples_leaf': 8}"
      ]
     },
     "execution_count": 9,
     "metadata": {},
     "output_type": "execute_result"
    }
   ],
   "source": [
    "random_search.best_params_"
   ]
  },
  {
   "cell_type": "code",
   "execution_count": 10,
   "metadata": {},
   "outputs": [],
   "source": [
    "model = random_search.best_estimator_\n",
    "data = model.feature_importances_"
   ]
  },
  {
   "cell_type": "code",
   "execution_count": 11,
   "metadata": {},
   "outputs": [
    {
     "data": {
      "text/plain": [
       "Loan Status                     0.000000\n",
       "Current Loan Amount             0.002154\n",
       "Term                            0.000000\n",
       "Credit Score                    0.000082\n",
       "Annual Income                   0.000777\n",
       "Years in current job            0.000489\n",
       "Monthly Debt                    0.000294\n",
       "Years of Credit History         0.000000\n",
       "Number of Open Accounts         0.000000\n",
       "Number of Credit Problems       0.000000\n",
       "Current Credit Balance          0.000419\n",
       "Maximum Open Credit             0.000146\n",
       "Bankruptcies                    0.000000\n",
       "Tax Liens                       0.000000\n",
       "Home Ownership_Home Mortgage    0.659249\n",
       "Home Ownership_Own Home         0.336391\n",
       "dtype: float64"
      ]
     },
     "execution_count": 11,
     "metadata": {},
     "output_type": "execute_result"
    }
   ],
   "source": [
    "pd.Series(index=data_train_preproc.columns[:-1], data=data)"
   ]
  },
  {
   "cell_type": "code",
   "execution_count": 12,
   "metadata": {},
   "outputs": [],
   "source": [
    "from sklearn.model_selection import train_test_split\n",
    "\n",
    "y = data_train_preproc['Loan Status']\n",
    "X = data_train_preproc.drop(['Loan Status'], axis=1)"
   ]
  },
  {
   "cell_type": "code",
   "execution_count": 13,
   "metadata": {},
   "outputs": [
    {
     "data": {
      "text/plain": [
       "DecisionTreeClassifier(criterion='entropy', max_depth=6, min_samples_leaf=8)"
      ]
     },
     "execution_count": 13,
     "metadata": {},
     "output_type": "execute_result"
    }
   ],
   "source": [
    "tree = DecisionTreeClassifier(criterion='entropy', max_depth=6, min_samples_leaf=8)\n",
    "tree.fit(X, y)"
   ]
  },
  {
   "cell_type": "code",
   "execution_count": 14,
   "metadata": {},
   "outputs": [],
   "source": [
    "from sklearn.metrics import accuracy_score\n",
    "\n",
    "y_true = y\n",
    "y_pred = tree.predict(X)"
   ]
  },
  {
   "cell_type": "code",
   "execution_count": 15,
   "metadata": {},
   "outputs": [
    {
     "data": {
      "text/plain": [
       "0.8457377282551022"
      ]
     },
     "execution_count": 15,
     "metadata": {},
     "output_type": "execute_result"
    }
   ],
   "source": [
    "accuracy_score(y_true, y_pred)"
   ]
  },
  {
   "cell_type": "code",
   "execution_count": null,
   "metadata": {},
   "outputs": [],
   "source": []
  }
 ],
 "metadata": {
  "kernelspec": {
   "display_name": "Python 3",
   "language": "python",
   "name": "python3"
  },
  "language_info": {
   "codemirror_mode": {
    "name": "ipython",
    "version": 3
   },
   "file_extension": ".py",
   "mimetype": "text/x-python",
   "name": "python",
   "nbconvert_exporter": "python",
   "pygments_lexer": "ipython3",
   "version": "3.8.5"
  }
 },
 "nbformat": 4,
 "nbformat_minor": 1
}