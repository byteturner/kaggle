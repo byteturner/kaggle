{
 "cells": [
  {
   "cell_type": "code",
   "execution_count": 1,
   "metadata": {
    "pycharm": {
     "is_executing": true
    }
   },
   "outputs": [],
   "source": [
    "import pandas as pd"
   ]
  },
  {
   "cell_type": "code",
   "execution_count": 2,
   "metadata": {
    "pycharm": {
     "is_executing": true
    }
   },
   "outputs": [],
   "source": [
    "data_train = pd.read_csv('../data/csv/credit_train.csv')\n",
    "data_test = pd.read_csv('../data/csv/credit_test.csv')"
   ]
  },
  {
   "cell_type": "code",
   "execution_count": 3,
   "metadata": {
    "pycharm": {
     "is_executing": true
    }
   },
   "outputs": [],
   "source": [
    "from sklearn.preprocessing import OneHotEncoder\n",
    "\n",
    "def preproc(data_init):\n",
    "    preproc_data = data_init.copy()\n",
    "    \n",
    "    preproc_data = preproc_data.drop(['Months since last delinquent', 'Customer ID', 'Purpose'], axis=1)\n",
    "    \n",
    "    preproc_data = preproc_data.dropna()\n",
    "    \n",
    "    #cтатус займа в бинарные значения\n",
    "    preproc_data.loc[:, 'Loan Status'] = \\\n",
    "    preproc_data.loc[:, 'Loan Status'].replace({'Fully Paid': 1, 'Charged Off': 0})\n",
    "    \n",
    "    #срок в бинарные значения\n",
    "    preproc_data.loc[:, 'Term'] = \\\n",
    "    preproc_data.loc[:, 'Term'].replace({'Long Term': 1, 'Short Term': 0})\n",
    "    \n",
    "    #стаж на текущем месте работы в числовые значения\n",
    "    preproc_data.loc[:, 'Years in current job'] = \\\n",
    "    preproc_data.loc[:, 'Years in current job'].replace({\n",
    "        '10+ years': 10,\n",
    "        '2 years': 2,\n",
    "        '3 years': 3,\n",
    "        '< 1 year': 0,\n",
    "        '5 years': 5,\n",
    "        '1 year': 1,\n",
    "        '4 years': 4,\n",
    "        '6 years': 6,\n",
    "        '7 years': 7,\n",
    "        '8 years': 8,\n",
    "        '9 years': 9,\n",
    "    })\n",
    "    \n",
    "    preproc_data = pd.get_dummies(preproc_data, columns = [\"Home Ownership\"] , prefix_sep = \"_\", drop_first = True)\n",
    "    \n",
    "    preproc_data.set_index('Loan ID', inplace=True)\n",
    "    \n",
    "    return preproc_data"
   ]
  },
  {
   "cell_type": "code",
   "execution_count": 4,
   "metadata": {
    "pycharm": {
     "is_executing": true
    }
   },
   "outputs": [],
   "source": [
    "data_train_preproc = data_train.pipe(preproc)"
   ]
  },
  {
   "cell_type": "code",
   "execution_count": 5,
   "metadata": {},
   "outputs": [
    {
     "name": "stdout",
     "output_type": "stream",
     "text": [
      "<class 'pandas.core.frame.DataFrame'>\n",
      "Index: 77271 entries, 14dd8831-6af5-400b-83ec-68e61888a048 to 81ab928b-d1a5-4523-9a3c-271ebb01b4fb\n",
      "Data columns (total 17 columns):\n",
      " #   Column                        Non-Null Count  Dtype  \n",
      "---  ------                        --------------  -----  \n",
      " 0   Loan Status                   77271 non-null  int64  \n",
      " 1   Current Loan Amount           77271 non-null  int64  \n",
      " 2   Term                          77271 non-null  int64  \n",
      " 3   Credit Score                  77271 non-null  float64\n",
      " 4   Annual Income                 77271 non-null  float64\n",
      " 5   Years in current job          77271 non-null  int64  \n",
      " 6   Monthly Debt                  77271 non-null  float64\n",
      " 7   Years of Credit History       77271 non-null  float64\n",
      " 8   Number of Open Accounts       77271 non-null  int64  \n",
      " 9   Number of Credit Problems     77271 non-null  int64  \n",
      " 10  Current Credit Balance        77271 non-null  int64  \n",
      " 11  Maximum Open Credit           77271 non-null  float64\n",
      " 12  Bankruptcies                  77271 non-null  float64\n",
      " 13  Tax Liens                     77271 non-null  float64\n",
      " 14  Home Ownership_Home Mortgage  77271 non-null  uint8  \n",
      " 15  Home Ownership_Own Home       77271 non-null  uint8  \n",
      " 16  Home Ownership_Rent           77271 non-null  uint8  \n",
      "dtypes: float64(7), int64(7), uint8(3)\n",
      "memory usage: 9.1+ MB\n"
     ]
    }
   ],
   "source": [
    "data_train_preproc.info()"
   ]
  },
  {
   "cell_type": "code",
   "execution_count": 6,
   "metadata": {},
   "outputs": [],
   "source": [
    "X, y = data_train_preproc.iloc[:, :-1].values, data_train_preproc.iloc[:, -1].values"
   ]
  },
  {
   "cell_type": "code",
   "execution_count": 7,
   "metadata": {
    "pycharm": {
     "is_executing": true
    }
   },
   "outputs": [],
   "source": [
    "from scipy.stats import randint as randint\n",
    "from scipy.stats import uniform\n",
    "from sklearn.tree import DecisionTreeClassifier\n",
    "\n",
    "try:\n",
    "    from sklearn.model_selection import GridSearchCV\n",
    "    from sklearn.model_selection import RandomizedSearchCV\n",
    "    from sklearn.model_selection import StratifiedKFold\n",
    "except ImportError:\n",
    "    from sklearn.cross_validation import GridSearchCV\n",
    "    from sklearn.cross_validation import RandomizedSearchCV\n",
    "    from sklearn.cross_validation import StratifiedKFold\n",
    "\n",
    "\n",
    "RND_SEED = 123"
   ]
  },
  {
   "cell_type": "code",
   "execution_count": 8,
   "metadata": {},
   "outputs": [
    {
     "data": {
      "text/plain": [
       "RandomizedSearchCV(cv=StratifiedKFold(n_splits=5, random_state=123, shuffle=True),\n",
       "                   estimator=DecisionTreeClassifier(random_state=123),\n",
       "                   n_iter=200, n_jobs=-1,\n",
       "                   param_distributions={'class_weight': [None, 'balanced'],\n",
       "                                        'criterion': ['gini', 'entropy'],\n",
       "                                        'max_depth': <scipy.stats._distn_infrastructure.rv_frozen object at 0x000001F505665D30>,\n",
       "                                        'min_samples_leaf': <scipy.stats._distn_infrastructure.rv_frozen object at 0x000001F5722B1160>},\n",
       "                   random_state=123, scoring='roc_auc')"
      ]
     },
     "execution_count": 8,
     "metadata": {},
     "output_type": "execute_result"
    }
   ],
   "source": [
    "# Определим пространство поиска\n",
    "\n",
    "param_grid = {\n",
    "    'criterion': ['gini', 'entropy'],\n",
    "    'max_depth': randint(2, 15),\n",
    "    'min_samples_leaf': randint(5, 10),\n",
    "    'class_weight': [None, 'balanced']}\n",
    "\n",
    "cv = StratifiedKFold(n_splits=5, random_state=123, shuffle=True)\n",
    "\n",
    "model = DecisionTreeClassifier(random_state=123)\n",
    "random_search = RandomizedSearchCV(model, param_distributions=param_grid, n_iter=200, n_jobs=-1,\n",
    "                                   cv=cv, scoring='roc_auc', random_state=123)\n",
    "\n",
    "random_search.fit(X, y)"
   ]
  },
  {
   "cell_type": "code",
   "execution_count": 9,
   "metadata": {},
   "outputs": [],
   "source": [
    "model = random_search.best_estimator_\n",
    "data = model.feature_importances_"
   ]
  },
  {
   "cell_type": "code",
   "execution_count": 10,
   "metadata": {},
   "outputs": [
    {
     "data": {
      "text/plain": [
       "Loan Status                     0.000000\n",
       "Current Loan Amount             0.002154\n",
       "Term                            0.000000\n",
       "Credit Score                    0.000082\n",
       "Annual Income                   0.000777\n",
       "Years in current job            0.000489\n",
       "Monthly Debt                    0.000294\n",
       "Years of Credit History         0.000000\n",
       "Number of Open Accounts         0.000000\n",
       "Number of Credit Problems       0.000000\n",
       "Current Credit Balance          0.000419\n",
       "Maximum Open Credit             0.000146\n",
       "Bankruptcies                    0.000000\n",
       "Tax Liens                       0.000000\n",
       "Home Ownership_Home Mortgage    0.659249\n",
       "Home Ownership_Own Home         0.336391\n",
       "dtype: float64"
      ]
     },
     "execution_count": 10,
     "metadata": {},
     "output_type": "execute_result"
    }
   ],
   "source": [
    "pd.Series(index=data_train_preproc.columns[:-1], data=data)"
   ]
  },
  {
   "cell_type": "code",
   "execution_count": null,
   "metadata": {},
   "outputs": [],
   "source": []
  }
 ],
 "metadata": {
  "kernelspec": {
   "display_name": "Python 3",
   "language": "python",
   "name": "python3"
  },
  "language_info": {
   "codemirror_mode": {
    "name": "ipython",
    "version": 3
   },
   "file_extension": ".py",
   "mimetype": "text/x-python",
   "name": "python",
   "nbconvert_exporter": "python",
   "pygments_lexer": "ipython3",
   "version": "3.8.5"
  }
 },
 "nbformat": 4,
 "nbformat_minor": 1
}